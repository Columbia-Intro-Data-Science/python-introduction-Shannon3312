{
 "cells": [
  {
   "cell_type": "code",
   "execution_count": 1,
   "metadata": {},
   "outputs": [
    {
     "data": {
      "text/html": [
       "<div>\n",
       "<style>\n",
       "    .dataframe thead tr:only-child th {\n",
       "        text-align: right;\n",
       "    }\n",
       "\n",
       "    .dataframe thead th {\n",
       "        text-align: left;\n",
       "    }\n",
       "\n",
       "    .dataframe tbody tr th {\n",
       "        vertical-align: top;\n",
       "    }\n",
       "</style>\n",
       "<table border=\"1\" class=\"dataframe\">\n",
       "  <thead>\n",
       "    <tr style=\"text-align: right;\">\n",
       "      <th></th>\n",
       "      <th>0</th>\n",
       "      <th>1</th>\n",
       "      <th>2</th>\n",
       "      <th>3</th>\n",
       "      <th>4</th>\n",
       "      <th>5</th>\n",
       "      <th>6</th>\n",
       "      <th>7</th>\n",
       "      <th>8</th>\n",
       "      <th>9</th>\n",
       "      <th>...</th>\n",
       "      <th>491</th>\n",
       "      <th>492</th>\n",
       "      <th>493</th>\n",
       "      <th>494</th>\n",
       "      <th>495</th>\n",
       "      <th>496</th>\n",
       "      <th>497</th>\n",
       "      <th>498</th>\n",
       "      <th>499</th>\n",
       "      <th>y</th>\n",
       "    </tr>\n",
       "  </thead>\n",
       "  <tbody>\n",
       "    <tr>\n",
       "      <th>0</th>\n",
       "      <td>0.945508</td>\n",
       "      <td>0.422924</td>\n",
       "      <td>-1.175680</td>\n",
       "      <td>-0.204851</td>\n",
       "      <td>0.956495</td>\n",
       "      <td>1.586134</td>\n",
       "      <td>0.791284</td>\n",
       "      <td>-0.550834</td>\n",
       "      <td>-0.671678</td>\n",
       "      <td>-0.696827</td>\n",
       "      <td>...</td>\n",
       "      <td>-2.485289</td>\n",
       "      <td>0.384919</td>\n",
       "      <td>-0.445951</td>\n",
       "      <td>1.028316</td>\n",
       "      <td>0.423627</td>\n",
       "      <td>1.146769</td>\n",
       "      <td>-0.403720</td>\n",
       "      <td>-0.071772</td>\n",
       "      <td>-0.849229</td>\n",
       "      <td>-6.975120</td>\n",
       "    </tr>\n",
       "    <tr>\n",
       "      <th>1</th>\n",
       "      <td>1.175353</td>\n",
       "      <td>0.522655</td>\n",
       "      <td>2.168309</td>\n",
       "      <td>0.690748</td>\n",
       "      <td>2.216084</td>\n",
       "      <td>1.113035</td>\n",
       "      <td>0.459399</td>\n",
       "      <td>0.784455</td>\n",
       "      <td>0.699736</td>\n",
       "      <td>-3.126158</td>\n",
       "      <td>...</td>\n",
       "      <td>0.219856</td>\n",
       "      <td>0.440127</td>\n",
       "      <td>-1.184021</td>\n",
       "      <td>-1.427193</td>\n",
       "      <td>-0.706583</td>\n",
       "      <td>-1.241395</td>\n",
       "      <td>-1.369264</td>\n",
       "      <td>-0.009654</td>\n",
       "      <td>-0.649839</td>\n",
       "      <td>21.642871</td>\n",
       "    </tr>\n",
       "    <tr>\n",
       "      <th>2</th>\n",
       "      <td>-0.917286</td>\n",
       "      <td>0.136068</td>\n",
       "      <td>-1.475830</td>\n",
       "      <td>0.210917</td>\n",
       "      <td>-0.628393</td>\n",
       "      <td>0.461943</td>\n",
       "      <td>1.239609</td>\n",
       "      <td>-1.290110</td>\n",
       "      <td>-0.478795</td>\n",
       "      <td>-0.048212</td>\n",
       "      <td>...</td>\n",
       "      <td>0.915721</td>\n",
       "      <td>-2.112830</td>\n",
       "      <td>0.501019</td>\n",
       "      <td>-0.407221</td>\n",
       "      <td>-1.276582</td>\n",
       "      <td>1.987699</td>\n",
       "      <td>1.344386</td>\n",
       "      <td>0.234978</td>\n",
       "      <td>0.662045</td>\n",
       "      <td>14.485314</td>\n",
       "    </tr>\n",
       "    <tr>\n",
       "      <th>3</th>\n",
       "      <td>1.279085</td>\n",
       "      <td>0.347321</td>\n",
       "      <td>-0.548167</td>\n",
       "      <td>0.171271</td>\n",
       "      <td>0.587288</td>\n",
       "      <td>-0.275381</td>\n",
       "      <td>-0.741495</td>\n",
       "      <td>0.420219</td>\n",
       "      <td>1.189619</td>\n",
       "      <td>0.816704</td>\n",
       "      <td>...</td>\n",
       "      <td>-0.522014</td>\n",
       "      <td>-0.007678</td>\n",
       "      <td>0.217829</td>\n",
       "      <td>-0.628337</td>\n",
       "      <td>1.952365</td>\n",
       "      <td>-2.175569</td>\n",
       "      <td>0.328451</td>\n",
       "      <td>0.045935</td>\n",
       "      <td>1.344729</td>\n",
       "      <td>2.852103</td>\n",
       "    </tr>\n",
       "    <tr>\n",
       "      <th>4</th>\n",
       "      <td>1.623511</td>\n",
       "      <td>-1.912125</td>\n",
       "      <td>-1.073391</td>\n",
       "      <td>0.774576</td>\n",
       "      <td>-0.263450</td>\n",
       "      <td>0.158132</td>\n",
       "      <td>-0.272666</td>\n",
       "      <td>0.239552</td>\n",
       "      <td>0.038211</td>\n",
       "      <td>-0.982306</td>\n",
       "      <td>...</td>\n",
       "      <td>-0.205444</td>\n",
       "      <td>-1.101453</td>\n",
       "      <td>0.659525</td>\n",
       "      <td>-2.318100</td>\n",
       "      <td>-0.087665</td>\n",
       "      <td>-0.697489</td>\n",
       "      <td>-1.471660</td>\n",
       "      <td>0.787636</td>\n",
       "      <td>0.134416</td>\n",
       "      <td>8.226931</td>\n",
       "    </tr>\n",
       "  </tbody>\n",
       "</table>\n",
       "<p>5 rows × 501 columns</p>\n",
       "</div>"
      ],
      "text/plain": [
       "          0         1         2         3         4         5         6  \\\n",
       "0  0.945508  0.422924 -1.175680 -0.204851  0.956495  1.586134  0.791284   \n",
       "1  1.175353  0.522655  2.168309  0.690748  2.216084  1.113035  0.459399   \n",
       "2 -0.917286  0.136068 -1.475830  0.210917 -0.628393  0.461943  1.239609   \n",
       "3  1.279085  0.347321 -0.548167  0.171271  0.587288 -0.275381 -0.741495   \n",
       "4  1.623511 -1.912125 -1.073391  0.774576 -0.263450  0.158132 -0.272666   \n",
       "\n",
       "          7         8         9    ...           491       492       493  \\\n",
       "0 -0.550834 -0.671678 -0.696827    ...     -2.485289  0.384919 -0.445951   \n",
       "1  0.784455  0.699736 -3.126158    ...      0.219856  0.440127 -1.184021   \n",
       "2 -1.290110 -0.478795 -0.048212    ...      0.915721 -2.112830  0.501019   \n",
       "3  0.420219  1.189619  0.816704    ...     -0.522014 -0.007678  0.217829   \n",
       "4  0.239552  0.038211 -0.982306    ...     -0.205444 -1.101453  0.659525   \n",
       "\n",
       "        494       495       496       497       498       499          y  \n",
       "0  1.028316  0.423627  1.146769 -0.403720 -0.071772 -0.849229  -6.975120  \n",
       "1 -1.427193 -0.706583 -1.241395 -1.369264 -0.009654 -0.649839  21.642871  \n",
       "2 -0.407221 -1.276582  1.987699  1.344386  0.234978  0.662045  14.485314  \n",
       "3 -0.628337  1.952365 -2.175569  0.328451  0.045935  1.344729   2.852103  \n",
       "4 -2.318100 -0.087665 -0.697489 -1.471660  0.787636  0.134416   8.226931  \n",
       "\n",
       "[5 rows x 501 columns]"
      ]
     },
     "execution_count": 1,
     "metadata": {},
     "output_type": "execute_result"
    }
   ],
   "source": [
    "import pandas as pd\n",
    "import pylab as plt\n",
    "import seaborn\n",
    "from sklearn.linear_model import LinearRegression\n",
    "from sklearn import linear_model\n",
    "import numpy.random as nprnd\n",
    "import random\n",
    "import numpy as np\n",
    "\n",
    "# (a)\n",
    "\n",
    "df = pd.read_csv('https://raw.githubusercontent.com/Columbia-Intro-Data-Science/APMAE4990-/master/data/hw2data.csv')\n",
    "\n",
    "# random the data, and set seed\n",
    "random.seed(1)\n",
    "df = df.sample(frac=1).reset_index(drop=True) # set the new index, make the data random\n",
    "df.head()\n"
   ]
  },
  {
   "cell_type": "code",
   "execution_count": 2,
   "metadata": {},
   "outputs": [
    {
     "data": {
      "text/html": [
       "<div>\n",
       "<style>\n",
       "    .dataframe thead tr:only-child th {\n",
       "        text-align: right;\n",
       "    }\n",
       "\n",
       "    .dataframe thead th {\n",
       "        text-align: left;\n",
       "    }\n",
       "\n",
       "    .dataframe tbody tr th {\n",
       "        vertical-align: top;\n",
       "    }\n",
       "</style>\n",
       "<table border=\"1\" class=\"dataframe\">\n",
       "  <thead>\n",
       "    <tr style=\"text-align: right;\">\n",
       "      <th></th>\n",
       "      <th>0</th>\n",
       "      <th>1</th>\n",
       "      <th>2</th>\n",
       "      <th>3</th>\n",
       "      <th>4</th>\n",
       "      <th>5</th>\n",
       "      <th>6</th>\n",
       "      <th>7</th>\n",
       "      <th>8</th>\n",
       "      <th>9</th>\n",
       "      <th>...</th>\n",
       "      <th>490</th>\n",
       "      <th>491</th>\n",
       "      <th>492</th>\n",
       "      <th>493</th>\n",
       "      <th>494</th>\n",
       "      <th>495</th>\n",
       "      <th>496</th>\n",
       "      <th>497</th>\n",
       "      <th>498</th>\n",
       "      <th>499</th>\n",
       "    </tr>\n",
       "  </thead>\n",
       "  <tbody>\n",
       "    <tr>\n",
       "      <th>0</th>\n",
       "      <td>0.945508</td>\n",
       "      <td>0.422924</td>\n",
       "      <td>-1.175680</td>\n",
       "      <td>-0.204851</td>\n",
       "      <td>0.956495</td>\n",
       "      <td>1.586134</td>\n",
       "      <td>0.791284</td>\n",
       "      <td>-0.550834</td>\n",
       "      <td>-0.671678</td>\n",
       "      <td>-0.696827</td>\n",
       "      <td>...</td>\n",
       "      <td>-0.210610</td>\n",
       "      <td>-2.485289</td>\n",
       "      <td>0.384919</td>\n",
       "      <td>-0.445951</td>\n",
       "      <td>1.028316</td>\n",
       "      <td>0.423627</td>\n",
       "      <td>1.146769</td>\n",
       "      <td>-0.403720</td>\n",
       "      <td>-0.071772</td>\n",
       "      <td>-0.849229</td>\n",
       "    </tr>\n",
       "    <tr>\n",
       "      <th>1</th>\n",
       "      <td>1.175353</td>\n",
       "      <td>0.522655</td>\n",
       "      <td>2.168309</td>\n",
       "      <td>0.690748</td>\n",
       "      <td>2.216084</td>\n",
       "      <td>1.113035</td>\n",
       "      <td>0.459399</td>\n",
       "      <td>0.784455</td>\n",
       "      <td>0.699736</td>\n",
       "      <td>-3.126158</td>\n",
       "      <td>...</td>\n",
       "      <td>1.407997</td>\n",
       "      <td>0.219856</td>\n",
       "      <td>0.440127</td>\n",
       "      <td>-1.184021</td>\n",
       "      <td>-1.427193</td>\n",
       "      <td>-0.706583</td>\n",
       "      <td>-1.241395</td>\n",
       "      <td>-1.369264</td>\n",
       "      <td>-0.009654</td>\n",
       "      <td>-0.649839</td>\n",
       "    </tr>\n",
       "    <tr>\n",
       "      <th>2</th>\n",
       "      <td>-0.917286</td>\n",
       "      <td>0.136068</td>\n",
       "      <td>-1.475830</td>\n",
       "      <td>0.210917</td>\n",
       "      <td>-0.628393</td>\n",
       "      <td>0.461943</td>\n",
       "      <td>1.239609</td>\n",
       "      <td>-1.290110</td>\n",
       "      <td>-0.478795</td>\n",
       "      <td>-0.048212</td>\n",
       "      <td>...</td>\n",
       "      <td>-0.115963</td>\n",
       "      <td>0.915721</td>\n",
       "      <td>-2.112830</td>\n",
       "      <td>0.501019</td>\n",
       "      <td>-0.407221</td>\n",
       "      <td>-1.276582</td>\n",
       "      <td>1.987699</td>\n",
       "      <td>1.344386</td>\n",
       "      <td>0.234978</td>\n",
       "      <td>0.662045</td>\n",
       "    </tr>\n",
       "    <tr>\n",
       "      <th>3</th>\n",
       "      <td>1.279085</td>\n",
       "      <td>0.347321</td>\n",
       "      <td>-0.548167</td>\n",
       "      <td>0.171271</td>\n",
       "      <td>0.587288</td>\n",
       "      <td>-0.275381</td>\n",
       "      <td>-0.741495</td>\n",
       "      <td>0.420219</td>\n",
       "      <td>1.189619</td>\n",
       "      <td>0.816704</td>\n",
       "      <td>...</td>\n",
       "      <td>0.747725</td>\n",
       "      <td>-0.522014</td>\n",
       "      <td>-0.007678</td>\n",
       "      <td>0.217829</td>\n",
       "      <td>-0.628337</td>\n",
       "      <td>1.952365</td>\n",
       "      <td>-2.175569</td>\n",
       "      <td>0.328451</td>\n",
       "      <td>0.045935</td>\n",
       "      <td>1.344729</td>\n",
       "    </tr>\n",
       "    <tr>\n",
       "      <th>4</th>\n",
       "      <td>1.623511</td>\n",
       "      <td>-1.912125</td>\n",
       "      <td>-1.073391</td>\n",
       "      <td>0.774576</td>\n",
       "      <td>-0.263450</td>\n",
       "      <td>0.158132</td>\n",
       "      <td>-0.272666</td>\n",
       "      <td>0.239552</td>\n",
       "      <td>0.038211</td>\n",
       "      <td>-0.982306</td>\n",
       "      <td>...</td>\n",
       "      <td>0.141416</td>\n",
       "      <td>-0.205444</td>\n",
       "      <td>-1.101453</td>\n",
       "      <td>0.659525</td>\n",
       "      <td>-2.318100</td>\n",
       "      <td>-0.087665</td>\n",
       "      <td>-0.697489</td>\n",
       "      <td>-1.471660</td>\n",
       "      <td>0.787636</td>\n",
       "      <td>0.134416</td>\n",
       "    </tr>\n",
       "  </tbody>\n",
       "</table>\n",
       "<p>5 rows × 500 columns</p>\n",
       "</div>"
      ],
      "text/plain": [
       "          0         1         2         3         4         5         6  \\\n",
       "0  0.945508  0.422924 -1.175680 -0.204851  0.956495  1.586134  0.791284   \n",
       "1  1.175353  0.522655  2.168309  0.690748  2.216084  1.113035  0.459399   \n",
       "2 -0.917286  0.136068 -1.475830  0.210917 -0.628393  0.461943  1.239609   \n",
       "3  1.279085  0.347321 -0.548167  0.171271  0.587288 -0.275381 -0.741495   \n",
       "4  1.623511 -1.912125 -1.073391  0.774576 -0.263450  0.158132 -0.272666   \n",
       "\n",
       "          7         8         9    ...          490       491       492  \\\n",
       "0 -0.550834 -0.671678 -0.696827    ...    -0.210610 -2.485289  0.384919   \n",
       "1  0.784455  0.699736 -3.126158    ...     1.407997  0.219856  0.440127   \n",
       "2 -1.290110 -0.478795 -0.048212    ...    -0.115963  0.915721 -2.112830   \n",
       "3  0.420219  1.189619  0.816704    ...     0.747725 -0.522014 -0.007678   \n",
       "4  0.239552  0.038211 -0.982306    ...     0.141416 -0.205444 -1.101453   \n",
       "\n",
       "        493       494       495       496       497       498       499  \n",
       "0 -0.445951  1.028316  0.423627  1.146769 -0.403720 -0.071772 -0.849229  \n",
       "1 -1.184021 -1.427193 -0.706583 -1.241395 -1.369264 -0.009654 -0.649839  \n",
       "2  0.501019 -0.407221 -1.276582  1.987699  1.344386  0.234978  0.662045  \n",
       "3  0.217829 -0.628337  1.952365 -2.175569  0.328451  0.045935  1.344729  \n",
       "4  0.659525 -2.318100 -0.087665 -0.697489 -1.471660  0.787636  0.134416  \n",
       "\n",
       "[5 rows x 500 columns]"
      ]
     },
     "execution_count": 2,
     "metadata": {},
     "output_type": "execute_result"
    }
   ],
   "source": [
    "# (b)\n",
    "y = df['y']\n",
    "X = df.iloc[:,0:500]\n",
    "X.head()"
   ]
  },
  {
   "cell_type": "code",
   "execution_count": 3,
   "metadata": {},
   "outputs": [
    {
     "name": "stderr",
     "output_type": "stream",
     "text": [
      "/Users/guanshan/anaconda/lib/python3.6/site-packages/sklearn/linear_model/coordinate_descent.py:491: ConvergenceWarning: Objective did not converge. You might want to increase the number of iterations. Fitting data with very small alpha may cause precision problems.\n",
      "  ConvergenceWarning)\n"
     ]
    },
    {
     "data": {
      "text/plain": [
       "<matplotlib.text.Text at 0x106a7f4e0>"
      ]
     },
     "execution_count": 3,
     "metadata": {},
     "output_type": "execute_result"
    },
    {
     "data": {
      "image/png": "[encoded data removed]",
      "text/plain": [
       "<matplotlib.figure.Figure at 0x1a128cb908>"
      ]
     },
     "metadata": {},
     "output_type": "display_data"
    }
   ],
   "source": [
    "# (c)\n",
    "import matplotlib.pyplot as plt\n",
    "%matplotlib inline\n",
    "\n",
    "# Randomly split data into training and testing - 80% training, 20% testing.\n",
    "size = len(X.index)\n",
    "X_train = X[0:int(size*0.8)]\n",
    "X_test = X[int(size*0.8):]\n",
    "y_train = y[0:int(size*0.8)]\n",
    "y_test = y[int(size*0.8):]\n",
    "\n",
    "# Create linear regression object\n",
    "alphas = np.logspace(-8,-3,1000)\n",
    "from sklearn.linear_model import Lasso\n",
    "scores = [] #R^2\n",
    "\n",
    "for alpha in alphas:\n",
    "    regr = Lasso(alpha=alpha)\n",
    "\n",
    "    # Train the model using the training sets\n",
    "    regr.fit(X_train, y_train)\n",
    "    scores.append(regr.score(X_test,y_test))\n",
    "    \n",
    "plt.plot(alphas,scores)\n",
    "plt.xlabel('alpha')\n",
    "plt.ylabel('R^2')\n",
    "plt.title('R^2 VS alpha')"
   ]
  },
  {
   "cell_type": "code",
   "execution_count": 4,
   "metadata": {},
   "outputs": [
    {
     "name": "stderr",
     "output_type": "stream",
     "text": [
      "/Users/guanshan/anaconda/lib/python3.6/site-packages/sklearn/linear_model/coordinate_descent.py:491: ConvergenceWarning: Objective did not converge. You might want to increase the number of iterations. Fitting data with very small alpha may cause precision problems.\n",
      "  ConvergenceWarning)\n"
     ]
    },
    {
     "data": {
      "image/png": "[encoded data removed]",
      "text/plain": [
       "<matplotlib.figure.Figure at 0x106a5f908>"
      ]
     },
     "metadata": {},
     "output_type": "display_data"
    }
   ],
   "source": [
    "# (d)\n",
    "plt.subplot(2, 1, 1)\n",
    "\n",
    "# Fill these in\n",
    "alphas = np.logspace(-8, -3, 1000)\n",
    "train_errors=[]\n",
    "test_errors=[]\n",
    "alpha_optim=0\n",
    "\n",
    "for alpha in alphas:\n",
    "    regr = Lasso(alpha=alpha)\n",
    "\n",
    "    # Train the model using the training sets\n",
    "    regr.fit(X_train, y_train)\n",
    "    scores.append(regr.score(X_test,y_test))   \n",
    "    train_errors.append(regr.score(X_train, y_train))\n",
    "    test_errors.append(regr.score(X_test, y_test)) \n",
    " \n",
    "    \n",
    "plt.semilogx(alphas, train_errors, label='Train')\n",
    "plt.semilogx(alphas, test_errors, label='Test')\n",
    "plt.vlines(alpha_optim, plt.ylim()[0], np.max(test_errors), color='k',\n",
    "           linewidth=3, label='Optimum on test')\n",
    "plt.legend(loc='lower left')\n",
    "plt.ylim([0, 1.2])\n",
    "plt.xlabel('Regularization parameter')\n",
    "plt.ylabel('Performance')\n",
    "\n",
    "\n",
    "plt.show()"
   ]
  },
  {
   "cell_type": "code",
   "execution_count": 5,
   "metadata": {},
   "outputs": [
    {
     "name": "stdout",
     "output_type": "stream",
     "text": [
      "Optimal regularization parameter : 0.000749678187497\n"
     ]
    },
    {
     "data": {
      "text/plain": [
       "[<matplotlib.lines.Line2D at 0x1a172a1128>]"
      ]
     },
     "execution_count": 5,
     "metadata": {},
     "output_type": "execute_result"
    },
    {
     "data": {
      "image/png": "[encoded data removed]",
      "text/plain": [
       "<matplotlib.figure.Figure at 0x1a12941048>"
      ]
     },
     "metadata": {},
     "output_type": "display_data"
    }
   ],
   "source": [
    " # (e)\n",
    "    \n",
    "i_alpha_optim = np.argmax(test_errors)\n",
    "alpha_optim = alphas[i_alpha_optim]\n",
    "print(\"Optimal regularization parameter : %s\" % alpha_optim)\n",
    "\n",
    "# Estimate the coef_ on full data with optimal regularization parameter\n",
    "regr.set_params(alpha=alpha_optim)\n",
    "coef_ = regr.fit(X, y).coef_   \n",
    "plt.plot(coef_)\n",
    "\n",
    "\n",
    "# Since LASSO has constant power to drag the coefficients to 0, so many coeeficients become 0 in the end."
   ]
  },
  {
   "cell_type": "code",
   "execution_count": 6,
   "metadata": {},
   "outputs": [
    {
     "name": "stderr",
     "output_type": "stream",
     "text": [
      "/Users/guanshan/anaconda/lib/python3.6/site-packages/sklearn/linear_model/coordinate_descent.py:491: ConvergenceWarning: Objective did not converge. You might want to increase the number of iterations. Fitting data with very small alpha may cause precision problems.\n",
      "  ConvergenceWarning)\n"
     ]
    },
    {
     "data": {
      "text/plain": [
       "array([ 0.99488633,  0.99999818,  0.99594696,  0.9999929 ,  0.99999715])"
      ]
     },
     "execution_count": 6,
     "metadata": {},
     "output_type": "execute_result"
    }
   ],
   "source": [
    "# (f)\n",
    "\n",
    "from sklearn.model_selection import cross_val_score\n",
    "best_alpha=alphas[np.argmax(scores)]\n",
    "regr = Lasso(alpha=best_alpha)\n",
    "scores = cross_val_score(regr, X, y, cv=5)\n",
    "scores"
   ]
  },
  {
   "cell_type": "code",
   "execution_count": 7,
   "metadata": {},
   "outputs": [
    {
     "name": "stdout",
     "output_type": "stream",
     "text": [
      "Optimal regularization parameter : 1.01159111222e-08\n"
     ]
    },
    {
     "name": "stderr",
     "output_type": "stream",
     "text": [
      "/Users/guanshan/anaconda/lib/python3.6/site-packages/sklearn/cross_validation.py:41: DeprecationWarning: This module was deprecated in version 0.18 in favor of the model_selection module into which all the refactored classes and functions are moved. Also note that the interface of the new CV iterators are different from that of this module. This module will be removed in 0.20.\n",
      "  \"This module will be removed in 0.20.\", DeprecationWarning)\n"
     ]
    }
   ],
   "source": [
    "# (g)\n",
    "from sklearn.cross_validation import KFold\n",
    "from sklearn import preprocessing\n",
    "def run_cv_coeffs(X,y,clf_class,**kwargs):\n",
    "    # Construct a kfolds object\n",
    "    kf = KFold(len(y),n_folds=5,shuffle=True)\n",
    "    y_pred = y.copy()\n",
    "    coeffs=[]\n",
    "    # Iterate through folds\n",
    "    for train_index, test_index in kf:\n",
    "        \n",
    "        X_train, X_test = X[train_index], X[test_index]\n",
    "        y_train = y[train_index]\n",
    "        # Initialize a classifier with key word arguments\n",
    "        clf = clf_class(**kwargs)\n",
    "        clf.fit(X_train,y_train)\n",
    "        y_pred[test_index] = clf.predict(X_test)\n",
    "        coeffs.append(clf.coef_)\n",
    "    return coeffs\n",
    "\n",
    "\n",
    "\n",
    "scaler = preprocessing.StandardScaler()\n",
    "X_scaled = X.as_matrix().astype(np.float)\n",
    "X_scaled = scaler.fit_transform(X)\n",
    "\n",
    "alpha_best = alphas[np.argmax(scores)]\n",
    "print(\"Optimal regularization parameter : %s\" % alpha_best)\n",
    "coeffs=run_cv_coeffs(X_scaled,np.array(y),Lasso,alpha=alpha_best)"
   ]
  },
  {
   "cell_type": "code",
   "execution_count": 8,
   "metadata": {
    "scrolled": true
   },
   "outputs": [
    {
     "data": {
      "text/plain": [
       "<matplotlib.axes._subplots.AxesSubplot at 0x1a175f6f28>"
      ]
     },
     "execution_count": 8,
     "metadata": {},
     "output_type": "execute_result"
    },
    {
     "data": {
      "text/plain": [
       "<matplotlib.figure.Figure at 0x1a1750ea58>"
      ]
     },
     "metadata": {},
     "output_type": "display_data"
    },
    {
     "data": {
      "image/png": "[encoded data removed]",
      "text/plain": [
       "<matplotlib.figure.Figure at 0x1a175f63c8>"
      ]
     },
     "metadata": {},
     "output_type": "display_data"
    }
   ],
   "source": [
    "\n",
    "def get_coeffs(coeffs):\n",
    "    coeffs_avgd = [(coeffs[0][i] + coeffs[1][i] + coeffs[2][i] + coeffs[3][i] + coeffs[4][i])/5 for i in range(0,len(X.columns))]\n",
    "    coeffs_std = [np.std([coeffs[0][i],coeffs[1][i],coeffs[2][i],coeffs[3][i],coeffs[4][i]]) for i in range(0,len(X.columns))]\n",
    "    return coeffs_avgd, coeffs_std\n",
    "coeffs_avg,coeffs_std=get_coeffs(coeffs)\n",
    "\n",
    "dfCoeffs = pd.DataFrame({'type':X.columns.values, 'coef':coeffs_avg, 'std':coeffs_std})\n",
    "dfCoeffs = dfCoeffs[(dfCoeffs['coef']>1) |(dfCoeffs['coef']<-1) ] # dataframe\n",
    "plt.figure(figsize=(15,15))\n",
    "\n",
    "dfCoeffs_sorted = dfCoeffs.sort_values(by=['coef'], ascending=[True])[::-1]\n",
    "# [::-1] get the descending order, default is ascending\n",
    "\n",
    "yerr_vals = dfCoeffs_sorted['std'].values\n",
    "dfCoeffs_sorted.plot(x='type',y='coef',kind='bar',yerr=yerr_vals,figsize=(15,15))"
   ]
  },
  {
   "cell_type": "code",
   "execution_count": null,
   "metadata": {
    "collapsed": true
   },
   "outputs": [],
   "source": []
  }
 ],
 "metadata": {
  "kernelspec": {
   "display_name": "Python 3",
   "language": "python",
   "name": "python3"
  },
  "language_info": {
   "codemirror_mode": {
    "name": "ipython",
    "version": 3
   },
   "file_extension": ".py",
   "mimetype": "text/x-python",
   "name": "python",
   "nbconvert_exporter": "python",
   "pygments_lexer": "ipython3",
   "version": "3.6.1"
  }
 },
 "nbformat": 4,
 "nbformat_minor": 2
}
